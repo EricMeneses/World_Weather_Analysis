{
 "cells": [
  {
   "cell_type": "code",
   "execution_count": 1,
   "metadata": {},
   "outputs": [],
   "source": [
    "# Dependencies and Setup\n",
    "import pandas as pd\n",
    "import requests\n",
    "import gmaps\n",
    "\n",
    "# Import API key\n",
    "from config import g_key\n",
    "\n",
    "# Configure gmaps\n",
    "gmaps.configure(api_key=g_key)"
   ]
  },
  {
   "cell_type": "code",
   "execution_count": 2,
   "metadata": {},
   "outputs": [
    {
     "data": {
      "text/html": [
       "<div>\n",
       "<style scoped>\n",
       "    .dataframe tbody tr th:only-of-type {\n",
       "        vertical-align: middle;\n",
       "    }\n",
       "\n",
       "    .dataframe tbody tr th {\n",
       "        vertical-align: top;\n",
       "    }\n",
       "\n",
       "    .dataframe thead th {\n",
       "        text-align: right;\n",
       "    }\n",
       "</style>\n",
       "<table border=\"1\" class=\"dataframe\">\n",
       "  <thead>\n",
       "    <tr style=\"text-align: right;\">\n",
       "      <th></th>\n",
       "      <th>City_ID</th>\n",
       "      <th>City</th>\n",
       "      <th>Country</th>\n",
       "      <th>Max Temp</th>\n",
       "      <th>Current Description</th>\n",
       "      <th>Lat</th>\n",
       "      <th>Lng</th>\n",
       "      <th>Hotel Name</th>\n",
       "    </tr>\n",
       "  </thead>\n",
       "  <tbody>\n",
       "    <tr>\n",
       "      <th>0</th>\n",
       "      <td>3</td>\n",
       "      <td>Keti Bandar</td>\n",
       "      <td>PK</td>\n",
       "      <td>70.65</td>\n",
       "      <td>clear sky</td>\n",
       "      <td>24.1447</td>\n",
       "      <td>67.4497</td>\n",
       "      <td>Keti Bandar</td>\n",
       "    </tr>\n",
       "    <tr>\n",
       "      <th>1</th>\n",
       "      <td>7</td>\n",
       "      <td>Hermanus</td>\n",
       "      <td>ZA</td>\n",
       "      <td>70.00</td>\n",
       "      <td>clear sky</td>\n",
       "      <td>-34.4187</td>\n",
       "      <td>19.2345</td>\n",
       "      <td>Hermanus</td>\n",
       "    </tr>\n",
       "    <tr>\n",
       "      <th>2</th>\n",
       "      <td>10</td>\n",
       "      <td>Saint-Philippe</td>\n",
       "      <td>RE</td>\n",
       "      <td>80.60</td>\n",
       "      <td>few clouds</td>\n",
       "      <td>-21.3585</td>\n",
       "      <td>55.7679</td>\n",
       "      <td>Saint-Philippe</td>\n",
       "    </tr>\n",
       "    <tr>\n",
       "      <th>3</th>\n",
       "      <td>12</td>\n",
       "      <td>Pipri</td>\n",
       "      <td>IN</td>\n",
       "      <td>75.20</td>\n",
       "      <td>clear sky</td>\n",
       "      <td>19.8000</td>\n",
       "      <td>75.5333</td>\n",
       "      <td>Pipri</td>\n",
       "    </tr>\n",
       "    <tr>\n",
       "      <th>4</th>\n",
       "      <td>13</td>\n",
       "      <td>Atuona</td>\n",
       "      <td>PF</td>\n",
       "      <td>78.17</td>\n",
       "      <td>scattered clouds</td>\n",
       "      <td>-9.8000</td>\n",
       "      <td>-139.0333</td>\n",
       "      <td>Atuona</td>\n",
       "    </tr>\n",
       "  </tbody>\n",
       "</table>\n",
       "</div>"
      ],
      "text/plain": [
       "   City_ID            City Country  Max Temp Current Description      Lat  \\\n",
       "0        3     Keti Bandar      PK     70.65           clear sky  24.1447   \n",
       "1        7        Hermanus      ZA     70.00           clear sky -34.4187   \n",
       "2       10  Saint-Philippe      RE     80.60          few clouds -21.3585   \n",
       "3       12           Pipri      IN     75.20           clear sky  19.8000   \n",
       "4       13          Atuona      PF     78.17    scattered clouds  -9.8000   \n",
       "\n",
       "        Lng      Hotel Name  \n",
       "0   67.4497     Keti Bandar  \n",
       "1   19.2345        Hermanus  \n",
       "2   55.7679  Saint-Philippe  \n",
       "3   75.5333           Pipri  \n",
       "4 -139.0333          Atuona  "
      ]
     },
     "execution_count": 2,
     "metadata": {},
     "output_type": "execute_result"
    }
   ],
   "source": [
    "# 1. Read the WeatherPy_vacation.csv into a DataFrame.\n",
    "vacation_df = pd.read_csv(\"Vacation_Search/WeatherPy_vacation.csv\")\n",
    "vacation_df.head()"
   ]
  },
  {
   "cell_type": "code",
   "execution_count": 3,
   "metadata": {},
   "outputs": [],
   "source": [
    "# 2. Using the template add the city name, the country code, the weather description and maximum temperature for the city.\n",
    "info_box_template = \"\"\"\n",
    "<dl>\n",
    "<dt>Hotel Name</dt><dd>{Hotel Name}</dd>\n",
    "<dt>City</dt><dd>{City}</dd>\n",
    "<dt>Country</dt><dd>{Country}</dd>\n",
    "<dt>Current Description</dt><dd>{Current Description}</dd>\n",
    "<dt>Max Temp</dt><dd>{Max Temp} °F</dd>\n",
    "</dl>\n",
    "\"\"\"\n",
    "\n",
    "# 3a. Get the data from each row and add it to the formatting template and store the data in a list.\n",
    "hotel_info = [info_box_template.format(**row) for index, row in vacation_df.iterrows()]\n",
    "\n",
    "# 3b. Get the latitude and longitude from each row and store in a new DataFrame.\n",
    "locations = vacation_df[[\"Lat\", \"Lng\"]]"
   ]
  },
  {
   "cell_type": "code",
   "execution_count": 4,
   "metadata": {
    "scrolled": true
   },
   "outputs": [
    {
     "data": {
      "application/vnd.jupyter.widget-view+json": {
       "model_id": "e9718b2782724a048f215a0f397cf610",
       "version_major": 2,
       "version_minor": 0
      },
      "text/plain": [
       "Figure(layout=FigureLayout(height='420px'))"
      ]
     },
     "metadata": {},
     "output_type": "display_data"
    }
   ],
   "source": [
    "# 4a. Add a marker layer for each city to the map.\n",
    "max_temp = vacation_df[\"Max Temp\"]\n",
    "fig = gmaps.figure(center=(30.0, 31.0), zoom_level=1.5)\n",
    "heat_layer = gmaps.heatmap_layer(locations, weights=max_temp,dissipating=False,\n",
    "             max_intensity=300, point_radius=4)\n",
    "marker_layer = gmaps.marker_layer(locations, info_box_content=hotel_info)\n",
    "fig.add_layer(heat_layer)\n",
    "fig.add_layer(marker_layer)\n",
    "\n",
    "# 4b. Display the figure\n",
    "fig"
   ]
  },
  {
   "cell_type": "code",
   "execution_count": 6,
   "metadata": {},
   "outputs": [
    {
     "data": {
      "text/html": [
       "<div>\n",
       "<style scoped>\n",
       "    .dataframe tbody tr th:only-of-type {\n",
       "        vertical-align: middle;\n",
       "    }\n",
       "\n",
       "    .dataframe tbody tr th {\n",
       "        vertical-align: top;\n",
       "    }\n",
       "\n",
       "    .dataframe thead th {\n",
       "        text-align: right;\n",
       "    }\n",
       "</style>\n",
       "<table border=\"1\" class=\"dataframe\">\n",
       "  <thead>\n",
       "    <tr style=\"text-align: right;\">\n",
       "      <th></th>\n",
       "      <th>City_ID</th>\n",
       "      <th>City</th>\n",
       "      <th>Country</th>\n",
       "      <th>Max Temp</th>\n",
       "      <th>Current Description</th>\n",
       "      <th>Lat</th>\n",
       "      <th>Lng</th>\n",
       "      <th>Hotel Name</th>\n",
       "    </tr>\n",
       "  </thead>\n",
       "  <tbody>\n",
       "    <tr>\n",
       "      <th>21</th>\n",
       "      <td>59</td>\n",
       "      <td>Mar Del Plata</td>\n",
       "      <td>AR</td>\n",
       "      <td>72.00</td>\n",
       "      <td>light intensity drizzle</td>\n",
       "      <td>-38.0023</td>\n",
       "      <td>-57.5575</td>\n",
       "      <td>Mar del Plata</td>\n",
       "    </tr>\n",
       "    <tr>\n",
       "      <th>60</th>\n",
       "      <td>175</td>\n",
       "      <td>San Rafael</td>\n",
       "      <td>AR</td>\n",
       "      <td>73.02</td>\n",
       "      <td>clear sky</td>\n",
       "      <td>-34.6177</td>\n",
       "      <td>-68.3301</td>\n",
       "      <td>San Rafael</td>\n",
       "    </tr>\n",
       "    <tr>\n",
       "      <th>69</th>\n",
       "      <td>197</td>\n",
       "      <td>Buenos Aires</td>\n",
       "      <td>AR</td>\n",
       "      <td>82.00</td>\n",
       "      <td>broken clouds</td>\n",
       "      <td>-34.6132</td>\n",
       "      <td>-58.3772</td>\n",
       "      <td>Buenos Aires</td>\n",
       "    </tr>\n",
       "    <tr>\n",
       "      <th>136</th>\n",
       "      <td>362</td>\n",
       "      <td>San Luis</td>\n",
       "      <td>AR</td>\n",
       "      <td>74.61</td>\n",
       "      <td>overcast clouds</td>\n",
       "      <td>-33.2950</td>\n",
       "      <td>-66.3356</td>\n",
       "      <td>San Luis</td>\n",
       "    </tr>\n",
       "    <tr>\n",
       "      <th>143</th>\n",
       "      <td>379</td>\n",
       "      <td>San Juan</td>\n",
       "      <td>AR</td>\n",
       "      <td>77.16</td>\n",
       "      <td>few clouds</td>\n",
       "      <td>-31.5375</td>\n",
       "      <td>-68.5364</td>\n",
       "      <td>San Juan</td>\n",
       "    </tr>\n",
       "    <tr>\n",
       "      <th>236</th>\n",
       "      <td>629</td>\n",
       "      <td>Santiago Del Estero</td>\n",
       "      <td>AR</td>\n",
       "      <td>88.86</td>\n",
       "      <td>light rain</td>\n",
       "      <td>-27.7951</td>\n",
       "      <td>-64.2615</td>\n",
       "      <td>Santiago del Estero</td>\n",
       "    </tr>\n",
       "    <tr>\n",
       "      <th>243</th>\n",
       "      <td>651</td>\n",
       "      <td>Villa Carlos Paz</td>\n",
       "      <td>AR</td>\n",
       "      <td>77.00</td>\n",
       "      <td>moderate rain</td>\n",
       "      <td>-31.4241</td>\n",
       "      <td>-64.4978</td>\n",
       "      <td>Villa Carlos Paz</td>\n",
       "    </tr>\n",
       "  </tbody>\n",
       "</table>\n",
       "</div>"
      ],
      "text/plain": [
       "     City_ID                 City Country  Max Temp      Current Description  \\\n",
       "21        59        Mar Del Plata      AR     72.00  light intensity drizzle   \n",
       "60       175           San Rafael      AR     73.02                clear sky   \n",
       "69       197         Buenos Aires      AR     82.00            broken clouds   \n",
       "136      362             San Luis      AR     74.61          overcast clouds   \n",
       "143      379             San Juan      AR     77.16               few clouds   \n",
       "236      629  Santiago Del Estero      AR     88.86               light rain   \n",
       "243      651     Villa Carlos Paz      AR     77.00            moderate rain   \n",
       "\n",
       "         Lat      Lng           Hotel Name  \n",
       "21  -38.0023 -57.5575        Mar del Plata  \n",
       "60  -34.6177 -68.3301           San Rafael  \n",
       "69  -34.6132 -58.3772         Buenos Aires  \n",
       "136 -33.2950 -66.3356             San Luis  \n",
       "143 -31.5375 -68.5364             San Juan  \n",
       "236 -27.7951 -64.2615  Santiago del Estero  \n",
       "243 -31.4241 -64.4978     Villa Carlos Paz  "
      ]
     },
     "execution_count": 6,
     "metadata": {},
     "output_type": "execute_result"
    }
   ],
   "source": [
    "# Trip into ARGENTINA.\n",
    "# Grab the first hotel from the results and store the name.\n",
    "argentina_vacation_df = vacation_df.loc[(vacation_df[\"Country\"] == \"AR\")]\n",
    "argentina_vacation_df.dropna()"
   ]
  },
  {
   "cell_type": "code",
   "execution_count": 7,
   "metadata": {},
   "outputs": [],
   "source": [
    "new_column_order = [\"City_ID\", \"City\", \"Country\", \"Lat\",\"Lng\", \"Max Temp\", \"Current Description\"]"
   ]
  },
  {
   "cell_type": "code",
   "execution_count": 8,
   "metadata": {},
   "outputs": [],
   "source": [
    "argentina_vacation_df = argentina_vacation_df[new_column_order]"
   ]
  },
  {
   "cell_type": "code",
   "execution_count": 9,
   "metadata": {},
   "outputs": [
    {
     "data": {
      "text/html": [
       "<div>\n",
       "<style scoped>\n",
       "    .dataframe tbody tr th:only-of-type {\n",
       "        vertical-align: middle;\n",
       "    }\n",
       "\n",
       "    .dataframe tbody tr th {\n",
       "        vertical-align: top;\n",
       "    }\n",
       "\n",
       "    .dataframe thead th {\n",
       "        text-align: right;\n",
       "    }\n",
       "</style>\n",
       "<table border=\"1\" class=\"dataframe\">\n",
       "  <thead>\n",
       "    <tr style=\"text-align: right;\">\n",
       "      <th></th>\n",
       "      <th>City_ID</th>\n",
       "      <th>City</th>\n",
       "      <th>Country</th>\n",
       "      <th>Lat</th>\n",
       "      <th>Lng</th>\n",
       "      <th>Max Temp</th>\n",
       "      <th>Current Description</th>\n",
       "    </tr>\n",
       "  </thead>\n",
       "  <tbody>\n",
       "    <tr>\n",
       "      <th>21</th>\n",
       "      <td>59</td>\n",
       "      <td>Mar Del Plata</td>\n",
       "      <td>AR</td>\n",
       "      <td>-38.0023</td>\n",
       "      <td>-57.5575</td>\n",
       "      <td>72.00</td>\n",
       "      <td>light intensity drizzle</td>\n",
       "    </tr>\n",
       "    <tr>\n",
       "      <th>60</th>\n",
       "      <td>175</td>\n",
       "      <td>San Rafael</td>\n",
       "      <td>AR</td>\n",
       "      <td>-34.6177</td>\n",
       "      <td>-68.3301</td>\n",
       "      <td>73.02</td>\n",
       "      <td>clear sky</td>\n",
       "    </tr>\n",
       "    <tr>\n",
       "      <th>69</th>\n",
       "      <td>197</td>\n",
       "      <td>Buenos Aires</td>\n",
       "      <td>AR</td>\n",
       "      <td>-34.6132</td>\n",
       "      <td>-58.3772</td>\n",
       "      <td>82.00</td>\n",
       "      <td>broken clouds</td>\n",
       "    </tr>\n",
       "    <tr>\n",
       "      <th>136</th>\n",
       "      <td>362</td>\n",
       "      <td>San Luis</td>\n",
       "      <td>AR</td>\n",
       "      <td>-33.2950</td>\n",
       "      <td>-66.3356</td>\n",
       "      <td>74.61</td>\n",
       "      <td>overcast clouds</td>\n",
       "    </tr>\n",
       "    <tr>\n",
       "      <th>143</th>\n",
       "      <td>379</td>\n",
       "      <td>San Juan</td>\n",
       "      <td>AR</td>\n",
       "      <td>-31.5375</td>\n",
       "      <td>-68.5364</td>\n",
       "      <td>77.16</td>\n",
       "      <td>few clouds</td>\n",
       "    </tr>\n",
       "    <tr>\n",
       "      <th>236</th>\n",
       "      <td>629</td>\n",
       "      <td>Santiago Del Estero</td>\n",
       "      <td>AR</td>\n",
       "      <td>-27.7951</td>\n",
       "      <td>-64.2615</td>\n",
       "      <td>88.86</td>\n",
       "      <td>light rain</td>\n",
       "    </tr>\n",
       "    <tr>\n",
       "      <th>243</th>\n",
       "      <td>651</td>\n",
       "      <td>Villa Carlos Paz</td>\n",
       "      <td>AR</td>\n",
       "      <td>-31.4241</td>\n",
       "      <td>-64.4978</td>\n",
       "      <td>77.00</td>\n",
       "      <td>moderate rain</td>\n",
       "    </tr>\n",
       "  </tbody>\n",
       "</table>\n",
       "</div>"
      ],
      "text/plain": [
       "     City_ID                 City Country      Lat      Lng  Max Temp  \\\n",
       "21        59        Mar Del Plata      AR -38.0023 -57.5575     72.00   \n",
       "60       175           San Rafael      AR -34.6177 -68.3301     73.02   \n",
       "69       197         Buenos Aires      AR -34.6132 -58.3772     82.00   \n",
       "136      362             San Luis      AR -33.2950 -66.3356     74.61   \n",
       "143      379             San Juan      AR -31.5375 -68.5364     77.16   \n",
       "236      629  Santiago Del Estero      AR -27.7951 -64.2615     88.86   \n",
       "243      651     Villa Carlos Paz      AR -31.4241 -64.4978     77.00   \n",
       "\n",
       "         Current Description  \n",
       "21   light intensity drizzle  \n",
       "60                 clear sky  \n",
       "69             broken clouds  \n",
       "136          overcast clouds  \n",
       "143               few clouds  \n",
       "236               light rain  \n",
       "243            moderate rain  "
      ]
     },
     "execution_count": 9,
     "metadata": {},
     "output_type": "execute_result"
    }
   ],
   "source": [
    "argentina_vacation_df"
   ]
  },
  {
   "cell_type": "code",
   "execution_count": 20,
   "metadata": {},
   "outputs": [
    {
     "name": "stdout",
     "output_type": "stream",
     "text": [
      "What is your Starting City_ID from AR List you would like for your trip? 197\n",
      "What is your First Stop City_ID from AR List you would like for your trip? 59\n",
      "What is your Second Stop City_ID from AR List you would like for your trip? 175\n",
      "What is your Third Stop City_ID from AR List you would like for your trip? 379\n",
      "What is your Last City_ID from AR List you would like for your trip? 651\n"
     ]
    }
   ],
   "source": [
    "# From the map above pick 4 cities and create a vacation itinerary route to travel between the four cities. \n",
    "# Let's pick by Minimum Temp to Maximum Temp cities. \n",
    "start = float(input(\"What is your Starting City_ID from AR List you would like for your trip? \"))\n",
    "stop1 = float(input(\"What is your First Stop City_ID from AR List you would like for your trip? \"))\n",
    "stop2 = float(input(\"What is your Second Stop City_ID from AR List you would like for your trip? \"))\n",
    "stop3 = float(input(\"What is your Third Stop City_ID from AR List you would like for your trip? \"))\n",
    "end = float(input(\"What is your Last City_ID from AR List you would like for your trip? \"))"
   ]
  },
  {
   "cell_type": "code",
   "execution_count": 21,
   "metadata": {},
   "outputs": [],
   "source": [
    "# From the map above pick 4 cities and create a vacation itinerary route to travel between the four cities. \n",
    "# 5. Create DataFrames for each city by filtering the 'vacation_df' using the loc method. \n",
    "# Hint: The starting and ending city should be the same city."
   ]
  },
  {
   "cell_type": "code",
   "execution_count": 22,
   "metadata": {},
   "outputs": [
    {
     "name": "stdout",
     "output_type": "stream",
     "text": [
      "Your Starting Destination is Mar Del Plata, AR\n",
      "Your Frist Stop is San Rafael, AR\n",
      "Your Second Stop is San Juan, AR\n",
      "Your Thirth Stop is Villa Carlos Paz, AR\n",
      "Your Last Stop in your vacation is Mar Del Plata, AR\n"
     ]
    }
   ],
   "source": [
    "\n",
    "# Start Vacation at:\n",
    "\n",
    "vacation_start = argentina_vacation_df.loc[(argentina_vacation_df[\"City_ID\"] == stop1)]\n",
    "vacation_start = vacation_start.iloc[0]\n",
    "\n",
    "vacation_stop1 = argentina_vacation_df.loc[(argentina_vacation_df[\"City_ID\"] == stop2)]\n",
    "vacation_stop1 = vacation_stop1.iloc[0]\n",
    "\n",
    "vacation_stop2 = argentina_vacation_df.loc[(argentina_vacation_df[\"City_ID\"] == stop3)]\n",
    "vacation_stop2 = vacation_stop2.iloc[0]\n",
    "\n",
    "vacation_stop3 = argentina_vacation_df.loc[(argentina_vacation_df[\"City_ID\"] == end)]\n",
    "vacation_stop3 = vacation_stop3.iloc[0]\n",
    "\n",
    "vacation_end = argentina_vacation_df.loc[(argentina_vacation_df[\"City_ID\"] <= end)]\n",
    "vacation_end = vacation_end.iloc[0] \n",
    "                                     \n",
    "print(\"Your Starting Destination is \" + vacation_start[\"City\"] + \", \" + vacation_start[\"Country\"])\n",
    "print(\"Your Frist Stop is \" + vacation_stop1[\"City\"] + \", \" + vacation_stop1[\"Country\"])\n",
    "print(\"Your Second Stop is \" + vacation_stop2[\"City\"] + \", \" + vacation_stop2[\"Country\"])                                     \n",
    "print(\"Your Thirth Stop is \" + vacation_stop3[\"City\"] + \", \" + vacation_stop3[\"Country\"])                                     \n",
    "print(\"Your Last Stop in your vacation is \" + vacation_end[\"City\"] + \", \" + vacation_end[\"Country\"])"
   ]
  },
  {
   "cell_type": "code",
   "execution_count": 23,
   "metadata": {},
   "outputs": [
    {
     "name": "stdout",
     "output_type": "stream",
     "text": [
      "Lat   -38.0023\n",
      "Lng   -57.5575\n",
      "Name: 21, dtype: object\n"
     ]
    }
   ],
   "source": [
    "# 6. Get the latitude-longitude pairs as tuples from each city DataFrame using the to_numpy function and list indexing.\n",
    "start = vacation_start[[\"Lat\", \"Lng\"]]\n",
    "print(start)"
   ]
  },
  {
   "cell_type": "code",
   "execution_count": 24,
   "metadata": {},
   "outputs": [
    {
     "name": "stdout",
     "output_type": "stream",
     "text": [
      "Lat   -34.6177\n",
      "Lng   -68.3301\n",
      "Name: 60, dtype: object\n"
     ]
    }
   ],
   "source": [
    "stop1 = vacation_stop1[[\"Lat\", \"Lng\"]]\n",
    "print(stop1)"
   ]
  },
  {
   "cell_type": "code",
   "execution_count": 25,
   "metadata": {},
   "outputs": [
    {
     "name": "stdout",
     "output_type": "stream",
     "text": [
      "Lat   -31.5375\n",
      "Lng   -68.5364\n",
      "Name: 143, dtype: object\n"
     ]
    }
   ],
   "source": [
    "stop2 = vacation_stop2[[\"Lat\", \"Lng\"]]\n",
    "print(stop2)"
   ]
  },
  {
   "cell_type": "code",
   "execution_count": 26,
   "metadata": {},
   "outputs": [
    {
     "name": "stdout",
     "output_type": "stream",
     "text": [
      "Lat   -31.4241\n",
      "Lng   -64.4978\n",
      "Name: 243, dtype: object\n"
     ]
    }
   ],
   "source": [
    "stop3 = vacation_stop3[[\"Lat\", \"Lng\"]]\n",
    "print(stop3)"
   ]
  },
  {
   "cell_type": "code",
   "execution_count": 27,
   "metadata": {},
   "outputs": [
    {
     "name": "stdout",
     "output_type": "stream",
     "text": [
      "Lat   -38.0023\n",
      "Lng   -57.5575\n",
      "Name: 21, dtype: object\n"
     ]
    }
   ],
   "source": [
    "end = vacation_end[[\"Lat\", \"Lng\"]]\n",
    "print(end)"
   ]
  },
  {
   "cell_type": "code",
   "execution_count": 28,
   "metadata": {
    "scrolled": true
   },
   "outputs": [
    {
     "data": {
      "application/vnd.jupyter.widget-view+json": {
       "model_id": "6db2ea93a1bc4d35bc33ffe63a95d32a",
       "version_major": 2,
       "version_minor": 0
      },
      "text/plain": [
       "Figure(layout=FigureLayout(height='420px'))"
      ]
     },
     "metadata": {},
     "output_type": "display_data"
    }
   ],
   "source": [
    "# 7. Create a direction layer map using the start and end latitude-longitude pairs,\n",
    "# and stop1, stop2, and stop3 as the waypoints. The travel_mode should be \"DRIVING\", \"BICYCLING\", or \"WALKING\".\n",
    "\n",
    "# USING DRIVING MODE!\n",
    "\n",
    "import gmaps\n",
    "import gmaps.datasets\n",
    "gmaps.configure(api_key=g_key)\n",
    "\n",
    "start = (-38.0023, -57.5575)\n",
    "stop1 = (-34.6177, -68.3301)\n",
    "stop2 = (-31.5375, -68.5364)\n",
    "stop3 = (-31.4241, -64.4978)\n",
    "end = (-38.0023, -57.5575)\n",
    "\n",
    "fig = gmaps.figure()\n",
    "sart2end_via_stops = gmaps.directions_layer(\n",
    "        start, end, waypoints=[stop1, stop2, stop3],\n",
    "        travel_mode='DRIVING')\n",
    "fig.add_layer(sart2end_via_stops)\n",
    "fig"
   ]
  },
  {
   "cell_type": "code",
   "execution_count": 29,
   "metadata": {},
   "outputs": [
    {
     "data": {
      "text/html": [
       "<div>\n",
       "<style scoped>\n",
       "    .dataframe tbody tr th:only-of-type {\n",
       "        vertical-align: middle;\n",
       "    }\n",
       "\n",
       "    .dataframe tbody tr th {\n",
       "        vertical-align: top;\n",
       "    }\n",
       "\n",
       "    .dataframe thead th {\n",
       "        text-align: right;\n",
       "    }\n",
       "</style>\n",
       "<table border=\"1\" class=\"dataframe\">\n",
       "  <thead>\n",
       "    <tr style=\"text-align: right;\">\n",
       "      <th></th>\n",
       "      <th>City_ID</th>\n",
       "      <th>City</th>\n",
       "      <th>Country</th>\n",
       "      <th>Lat</th>\n",
       "      <th>Lng</th>\n",
       "      <th>Max Temp</th>\n",
       "      <th>Current Description</th>\n",
       "    </tr>\n",
       "  </thead>\n",
       "  <tbody>\n",
       "    <tr>\n",
       "      <th>0</th>\n",
       "      <td>59</td>\n",
       "      <td>Mar Del Plata</td>\n",
       "      <td>AR</td>\n",
       "      <td>-38.0023</td>\n",
       "      <td>-57.5575</td>\n",
       "      <td>72.00</td>\n",
       "      <td>light intensity drizzle</td>\n",
       "    </tr>\n",
       "    <tr>\n",
       "      <th>1</th>\n",
       "      <td>175</td>\n",
       "      <td>San Rafael</td>\n",
       "      <td>AR</td>\n",
       "      <td>-34.6177</td>\n",
       "      <td>-68.3301</td>\n",
       "      <td>73.02</td>\n",
       "      <td>clear sky</td>\n",
       "    </tr>\n",
       "    <tr>\n",
       "      <th>2</th>\n",
       "      <td>197</td>\n",
       "      <td>Buenos Aires</td>\n",
       "      <td>AR</td>\n",
       "      <td>-34.6132</td>\n",
       "      <td>-58.3772</td>\n",
       "      <td>82.00</td>\n",
       "      <td>broken clouds</td>\n",
       "    </tr>\n",
       "    <tr>\n",
       "      <th>3</th>\n",
       "      <td>362</td>\n",
       "      <td>San Luis</td>\n",
       "      <td>AR</td>\n",
       "      <td>-33.2950</td>\n",
       "      <td>-66.3356</td>\n",
       "      <td>74.61</td>\n",
       "      <td>overcast clouds</td>\n",
       "    </tr>\n",
       "    <tr>\n",
       "      <th>4</th>\n",
       "      <td>379</td>\n",
       "      <td>San Juan</td>\n",
       "      <td>AR</td>\n",
       "      <td>-31.5375</td>\n",
       "      <td>-68.5364</td>\n",
       "      <td>77.16</td>\n",
       "      <td>few clouds</td>\n",
       "    </tr>\n",
       "    <tr>\n",
       "      <th>5</th>\n",
       "      <td>629</td>\n",
       "      <td>Santiago Del Estero</td>\n",
       "      <td>AR</td>\n",
       "      <td>-27.7951</td>\n",
       "      <td>-64.2615</td>\n",
       "      <td>88.86</td>\n",
       "      <td>light rain</td>\n",
       "    </tr>\n",
       "    <tr>\n",
       "      <th>6</th>\n",
       "      <td>651</td>\n",
       "      <td>Villa Carlos Paz</td>\n",
       "      <td>AR</td>\n",
       "      <td>-31.4241</td>\n",
       "      <td>-64.4978</td>\n",
       "      <td>77.00</td>\n",
       "      <td>moderate rain</td>\n",
       "    </tr>\n",
       "  </tbody>\n",
       "</table>\n",
       "</div>"
      ],
      "text/plain": [
       "   City_ID                 City Country      Lat      Lng  Max Temp  \\\n",
       "0       59        Mar Del Plata      AR -38.0023 -57.5575     72.00   \n",
       "1      175           San Rafael      AR -34.6177 -68.3301     73.02   \n",
       "2      197         Buenos Aires      AR -34.6132 -58.3772     82.00   \n",
       "3      362             San Luis      AR -33.2950 -66.3356     74.61   \n",
       "4      379             San Juan      AR -31.5375 -68.5364     77.16   \n",
       "5      629  Santiago Del Estero      AR -27.7951 -64.2615     88.86   \n",
       "6      651     Villa Carlos Paz      AR -31.4241 -64.4978     77.00   \n",
       "\n",
       "       Current Description  \n",
       "0  light intensity drizzle  \n",
       "1                clear sky  \n",
       "2            broken clouds  \n",
       "3          overcast clouds  \n",
       "4               few clouds  \n",
       "5               light rain  \n",
       "6            moderate rain  "
      ]
     },
     "execution_count": 29,
     "metadata": {},
     "output_type": "execute_result"
    }
   ],
   "source": [
    "# 8. To create a marker layer map between the cities.\n",
    "#  Combine the four city DataFrames into one DataFrame using the concat() function.\n",
    "\n",
    "argentina_vacation_df = pd.concat([argentina_vacation_df],ignore_index=True)\n",
    "argentina_vacation_df"
   ]
  },
  {
   "cell_type": "code",
   "execution_count": 30,
   "metadata": {},
   "outputs": [],
   "source": [
    "# 9 Using the template add city name, the country code, the weather description and maximum temperature for the city. \n",
    "info_box_template = \"\"\"\n",
    "<dl>\n",
    "<dt>City</dt><dd>{City}</dd>\n",
    "<dt>Country</dt><dd>{Country}</dd>\n",
    "<dt>Current Description</dt><dd>{Current Description}</dd>\n",
    "<dt>Max Temp</dt><dd>{Max Temp} °F</dd>\n",
    "</dl>\n",
    "\"\"\"\n",
    "\n",
    "# 10a Get the data from each row and add it to the formatting template and store the data in a list.\n",
    "mark_info = [info_box_template.format(**row) for index, row in argentina_vacation_df.iterrows()]\n",
    "\n",
    "# 10b. Get the latitude and longitude from each row and store in a new DataFrame.\n",
    "locations = argentina_vacation_df[[\"Lat\", \"Lng\"]]"
   ]
  },
  {
   "cell_type": "code",
   "execution_count": 31,
   "metadata": {},
   "outputs": [],
   "source": [
    "# 11a. Add a marker layer for each city to the map.\n",
    "city_mark = argentina_vacation_df[\"City\"]\n",
    "fig = gmaps.figure(center=(30.0, 31.0), zoom_level=1.5)\n",
    "marker_layer = gmaps.marker_layer(locations, info_box_content=mark_info)\n",
    "\n",
    "fig.add_layer(marker_layer)\n"
   ]
  },
  {
   "cell_type": "code",
   "execution_count": 32,
   "metadata": {},
   "outputs": [
    {
     "data": {
      "application/vnd.jupyter.widget-view+json": {
       "model_id": "b6d07f4afd56447689aba5650d6a2d56",
       "version_major": 2,
       "version_minor": 0
      },
      "text/plain": [
       "Figure(layout=FigureLayout(height='420px'))"
      ]
     },
     "metadata": {},
     "output_type": "display_data"
    }
   ],
   "source": [
    "# 11b. Display the figure\n",
    "fig"
   ]
  },
  {
   "cell_type": "code",
   "execution_count": null,
   "metadata": {},
   "outputs": [],
   "source": []
  }
 ],
 "metadata": {
  "kernelspec": {
   "display_name": "Python 3",
   "language": "python",
   "name": "python3"
  },
  "language_info": {
   "codemirror_mode": {
    "name": "ipython",
    "version": 3
   },
   "file_extension": ".py",
   "mimetype": "text/x-python",
   "name": "python",
   "nbconvert_exporter": "python",
   "pygments_lexer": "ipython3",
   "version": "3.8.3"
  }
 },
 "nbformat": 4,
 "nbformat_minor": 4
}
